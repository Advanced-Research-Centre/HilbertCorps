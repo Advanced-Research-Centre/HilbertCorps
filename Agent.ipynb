{
  "nbformat": 4,
  "nbformat_minor": 0,
  "metadata": {
    "colab": {
      "provenance": [],
      "authorship_tag": "ABX9TyNw2Z18pIdJNWFEBCCXLDox",
      "include_colab_link": true
    },
    "kernelspec": {
      "name": "python3",
      "display_name": "Python 3"
    },
    "language_info": {
      "name": "python"
    }
  },
  "cells": [
    {
      "cell_type": "markdown",
      "metadata": {
        "id": "view-in-github",
        "colab_type": "text"
      },
      "source": [
        "<a href=\"https://colab.research.google.com/github/Advanced-Research-Centre/HilbertCorps/blob/main/Agent.ipynb\" target=\"_parent\"><img src=\"https://colab.research.google.com/assets/colab-badge.svg\" alt=\"Open In Colab\"/></a>"
      ]
    },
    {
      "cell_type": "code",
      "execution_count": 1,
      "metadata": {
        "id": "lmxLxOY-a1Ov"
      },
      "outputs": [],
      "source": [
        "%%capture\n",
        "!pip3 install qiskit\n",
        "!pip3 install qiskit-aer\n",
        "!pip3 install matplotlib\n",
        "# !pip3 install gymnasium\n",
        "# !pip3 install pylatexenc"
      ]
    },
    {
      "cell_type": "code",
      "source": [
        "from qiskit import QuantumCircuit, Aer, execute\n",
        "import numpy as np\n",
        "import copy\n",
        "%matplotlib inline\n",
        "import matplotlib.pyplot as plt\n",
        "simulator = Aer.get_backend('statevector_simulator')"
      ],
      "metadata": {
        "id": "0ti0tggjbK4C"
      },
      "execution_count": 14,
      "outputs": []
    },
    {
      "cell_type": "code",
      "source": [
        "k = 1         # Number of qubits of information\n",
        "n = 3         # Dimension of encoding space\n",
        "s = n - k     # Maximum number of syndrome measurements allowed\n",
        "\n",
        "perr_x = 0\n",
        "perr_y = 0\n",
        "perr_z = 0\n",
        "\n",
        "trials = 1    # How many random input quantum states will be tested for the QECC scheme\n",
        "shots = 500  # For penalty precision\n",
        "\n",
        "def prep_state(qc,ax,ay):\n",
        "    qc.rx(ax, range(k))\n",
        "    qc.ry(ay, range(k))\n",
        "    return qc\n",
        "\n",
        "def add_enc_circ(ax,ay):\n",
        "    qc=QuantumCircuit(n+s, k)\n",
        "    qc.rx(ax, range(k))\n",
        "    qc.ry(ay, range(k))\n",
        "    qc.barrier()\n",
        "    for i in range(0,n-k):  # Currently works only for k = 1. For higher k, block encoding?\n",
        "        qc.cx(k-1,k+i)\n",
        "    qc.barrier()\n",
        "    return qc\n",
        "\n",
        "def add_err_circ(qc):\n",
        "    tgt = np.random.randint(0,n)\n",
        "    px = np.random.rand()\n",
        "    if px < perr_x:\n",
        "        qc.x(tgt)\n",
        "    # for i in range(n):\n",
        "    #     px = np.random.rand()\n",
        "    #     py = np.random.rand()\n",
        "    #     pz = np.random.rand()\n",
        "    #     error_indices = []\n",
        "    #     if px < perr_x:\n",
        "    #         qc.x(i)\n",
        "    #     if py < perr_y:\n",
        "    #         qc.y(i)\n",
        "    #     if pz < perr_z:\n",
        "    #         qc.z(i)\n",
        "    qc.barrier()\n",
        "    return qc\n",
        "\n",
        "def add_dec_circ(qc):\n",
        "    for i in range(0,n-k):  # Currently works only for k = 1. For higher k, block encoding?\n",
        "        qc.cx(k-1,k+i)\n",
        "    qc.barrier()\n",
        "    return qc"
      ],
      "metadata": {
        "id": "1VmKmrItbRwv"
      },
      "execution_count": 139,
      "outputs": []
    },
    {
      "cell_type": "code",
      "source": [
        "from qiskit.quantum_info import Statevector\n",
        "\n",
        "def run_episode(syn_qc):\n",
        "    penalties = []\n",
        "    # np.random.seed(1)           # Remove later, now for testing\n",
        "\n",
        "    for trial in range(trials):\n",
        "\n",
        "        qc = QuantumCircuit(k, k)\n",
        "        ax = np.random.rand()*2*np.pi\n",
        "        ay = np.random.rand()*2*np.pi\n",
        "\n",
        "        q_state = prep_state(qc, ax, ay)\n",
        "        print(Statevector(q_state))\n",
        "        q_state.measure(range(k), range(k))\n",
        "\n",
        "        result = execute(q_state, simulator, shots=shots).result()\n",
        "        m1 = result.get_counts(q_state)\n",
        "        print(m1)\n",
        "\n",
        "        ec = add_enc_circ(ax, ay)\n",
        "\n",
        "        err_trials = 1       # How many times a specific choice of syndrome circuit is tested for different random errors, bigger the better (and slower)\n",
        "\n",
        "        for _ in range(err_trials):\n",
        "\n",
        "            enc_circ = copy.deepcopy(ec)\n",
        "\n",
        "            err_circ = add_err_circ(enc_circ)\n",
        "\n",
        "            syn_circ = err_circ.compose(syn_qc)\n",
        "\n",
        "            dec_circ = add_dec_circ(syn_circ)\n",
        "            print(dec_circ)\n",
        "            print(Statevector(dec_circ))\n",
        "            dec_circ.measure(range(k), range(k))\n",
        "\n",
        "            result = execute(dec_circ, simulator, shots=shots).result()\n",
        "            m2 = result.get_counts(dec_circ)\n",
        "            print(m2)\n",
        "\n",
        "\n",
        "            penalty = sum(abs(m1.get(key, 0) - m2.get(key, 0))/shots for key in set(m1) | set(m2))  # This is the agent's penalty\n",
        "            print(set(m1)|set(m2),m1.get('0'),m2.get('0'),penalty)\n",
        "\n",
        "            penalties.append(penalty)\n",
        "\n",
        "    return penalties  #, best_penalty, best_syndrome_circuit"
      ],
      "metadata": {
        "id": "B0niPxn3babQ"
      },
      "execution_count": 151,
      "outputs": []
    },
    {
      "cell_type": "code",
      "source": [
        "def add_syn_circ():\n",
        "    qc = QuantumCircuit(n+s, k)\n",
        "    qc.cx(0,3)\n",
        "    qc.cx(1,3)\n",
        "    qc.cx(1,4)\n",
        "    qc.cx(2,4)\n",
        "    qc.barrier()\n",
        "    qc.x(3)\n",
        "    qc.mcx([3,4],0)\n",
        "    qc.x(3)\n",
        "    qc.x(4)\n",
        "    qc.mcx([3,4],2)\n",
        "    qc.x(4)\n",
        "    qc.mcx([3,4],1)\n",
        "    qc.barrier()\n",
        "    return qc"
      ],
      "metadata": {
        "id": "ImtcRcZNLIof"
      },
      "execution_count": 116,
      "outputs": []
    },
    {
      "cell_type": "code",
      "source": [
        "from numpy.ma.extras import average\n",
        "from statistics import mean\n",
        "\n",
        "perr_x = 0.4\n",
        "perr_y = 0\n",
        "perr_z = 0\n",
        "\n",
        "syn_trails = 1\n",
        "best_avg_penalty = float('inf')\n",
        "best_syndrome_circuit = None\n",
        "avg_penalty_list = []\n",
        "syn_trail_list = []\n",
        "\n",
        "for t in range(syn_trails):\n",
        "    # syn_circ = gen_syn_circ(syn_trail_list,avg_penalty_list)               # Action of the agent (Random)\n",
        "    syn_circ = add_syn_circ()\n",
        "    syn_trail_list.append(syn_circ)\n",
        "    penalties = run_episode(syn_circ)       # Interaction with the environment, performs the action on the environment\n",
        "    avg_penalty = np.mean(penalties)        # Penalty\n",
        "    # print(t, avg_penalty)\n",
        "    avg_penalty_list.append(avg_penalty)\n",
        "    if avg_penalty < best_avg_penalty:\n",
        "        best_avg_penalty = avg_penalty\n",
        "        best_syndrome_circuit = copy.deepcopy(syn_circ)\n",
        "\n",
        "print(best_syndrome_circuit)"
      ],
      "metadata": {
        "id": "-XN4cINTBiNt",
        "outputId": "6590af97-1d29-41d6-8ef1-56e4d970463e",
        "colab": {
          "base_uri": "https://localhost:8080/"
        }
      },
      "execution_count": 152,
      "outputs": [
        {
          "output_type": "stream",
          "name": "stdout",
          "text": [
            "Statevector([ 0.946977  +0.05089278j, -0.25456071+0.18932336j],\n",
            "            dims=(2,))\n",
            "{'1': 55, '0': 445}\n",
            "     ┌────────────┐┌───────────┐ ░            ░ ┌───┐ ░                      ░ »\n",
            "q_0: ┤ Rx(5.8885) ├┤ Ry(5.758) ├─░───■────■───░─┤ X ├─░───■──────────────────░─»\n",
            "     └────────────┘└───────────┘ ░ ┌─┴─┐  │   ░ └───┘ ░   │                  ░ »\n",
            "q_1: ────────────────────────────░─┤ X ├──┼───░───────░───┼────■────■────────░─»\n",
            "                                 ░ └───┘┌─┴─┐ ░       ░   │    │    │        ░ »\n",
            "q_2: ────────────────────────────░──────┤ X ├─░───────░───┼────┼────┼────■───░─»\n",
            "                                 ░      └───┘ ░       ░ ┌─┴─┐┌─┴─┐  │    │   ░ »\n",
            "q_3: ────────────────────────────░────────────░───────░─┤ X ├┤ X ├──┼────┼───░─»\n",
            "                                 ░            ░       ░ └───┘└───┘┌─┴─┐┌─┴─┐ ░ »\n",
            "q_4: ────────────────────────────░────────────░───────░───────────┤ X ├┤ X ├─░─»\n",
            "                                 ░            ░       ░           └───┘└───┘ ░ »\n",
            "c: 1/══════════════════════════════════════════════════════════════════════════»\n",
            "                                                                               »\n",
            "«          ┌───┐                     ░            ░ \n",
            "«q_0: ─────┤ X ├─────────────────────░───■────■───░─\n",
            "«          └─┬─┘               ┌───┐ ░ ┌─┴─┐  │   ░ \n",
            "«q_1: ───────┼─────────────────┤ X ├─░─┤ X ├──┼───░─\n",
            "«            │       ┌───┐     └─┬─┘ ░ └───┘┌─┴─┐ ░ \n",
            "«q_2: ───────┼───────┤ X ├───────┼───░──────┤ X ├─░─\n",
            "«     ┌───┐  │  ┌───┐└─┬─┘       │   ░      └───┘ ░ \n",
            "«q_3: ┤ X ├──■──┤ X ├──■─────────■───░────────────░─\n",
            "«     └───┘  │  ├───┤  │  ┌───┐  │   ░            ░ \n",
            "«q_4: ───────■──┤ X ├──■──┤ X ├──■───░────────────░─\n",
            "«               └───┘     └───┘      ░            ░ \n",
            "«c: 1/══════════════════════════════════════════════\n",
            "«                                                   \n",
            "Statevector([ 0.        +0.j        ,  0.        +0.j        ,\n",
            "              0.        +0.j        ,  0.        +0.j        ,\n",
            "              0.        +0.j        ,  0.        +0.j        ,\n",
            "              0.        +0.j        ,  0.        +0.j        ,\n",
            "              0.        +0.j        ,  0.        +0.j        ,\n",
            "             -0.25456071+0.18932336j,  0.946977  +0.05089278j,\n",
            "              0.        +0.j        ,  0.        +0.j        ,\n",
            "              0.        +0.j        ,  0.        +0.j        ,\n",
            "              0.        +0.j        ,  0.        +0.j        ,\n",
            "              0.        +0.j        ,  0.        +0.j        ,\n",
            "              0.        +0.j        ,  0.        +0.j        ,\n",
            "              0.        +0.j        ,  0.        +0.j        ,\n",
            "              0.        +0.j        ,  0.        +0.j        ,\n",
            "              0.        +0.j        ,  0.        +0.j        ,\n",
            "              0.        +0.j        ,  0.        +0.j        ,\n",
            "              0.        +0.j        ,  0.        +0.j        ],\n",
            "            dims=(2, 2, 2, 2, 2))\n",
            "{'0': 59, '1': 441}\n",
            "{'1', '0'} 445 59 1.544\n",
            "                          ░      ┌───┐                     ░ \n",
            "q_0: ──■──────────────────░──────┤ X ├─────────────────────░─\n",
            "       │                  ░      └─┬─┘               ┌───┐ ░ \n",
            "q_1: ──┼────■────■────────░────────┼─────────────────┤ X ├─░─\n",
            "       │    │    │        ░        │       ┌───┐     └─┬─┘ ░ \n",
            "q_2: ──┼────┼────┼────■───░────────┼───────┤ X ├───────┼───░─\n",
            "     ┌─┴─┐┌─┴─┐  │    │   ░ ┌───┐  │  ┌───┐└─┬─┘       │   ░ \n",
            "q_3: ┤ X ├┤ X ├──┼────┼───░─┤ X ├──■──┤ X ├──■─────────■───░─\n",
            "     └───┘└───┘┌─┴─┐┌─┴─┐ ░ └───┘  │  ├───┤  │  ┌───┐  │   ░ \n",
            "q_4: ──────────┤ X ├┤ X ├─░────────■──┤ X ├──■──┤ X ├──■───░─\n",
            "               └───┘└───┘ ░           └───┘     └───┘      ░ \n",
            "c: 1/════════════════════════════════════════════════════════\n",
            "                                                             \n"
          ]
        }
      ]
    },
    {
      "cell_type": "code",
      "source": [
        "print(avg_penalty_list)\n",
        "plt.plot(avg_penalty_list)"
      ],
      "metadata": {
        "id": "YJk8QbwlMT4t",
        "outputId": "fd2df423-b765-487b-fd33-adecf8c0c2f3",
        "colab": {
          "base_uri": "https://localhost:8080/",
          "height": 465
        }
      },
      "execution_count": 28,
      "outputs": [
        {
          "output_type": "stream",
          "name": "stdout",
          "text": [
            "[0.20439999999999997, 0.20079999999999998]\n"
          ]
        },
        {
          "output_type": "execute_result",
          "data": {
            "text/plain": [
              "[<matplotlib.lines.Line2D at 0x7aa70b877340>]"
            ]
          },
          "metadata": {},
          "execution_count": 28
        },
        {
          "output_type": "display_data",
          "data": {
            "text/plain": [
              "<Figure size 640x480 with 1 Axes>"
            ],
            "image/png": "[encoded data removed]"
          },
          "metadata": {}
        }
      ]
    },
    {
      "cell_type": "code",
      "source": [
        "def gen_syn_circ(syn_trail_list, avg_penalty_list):\n",
        "    qc = QuantumCircuit(n+s, k)\n",
        "    num_syndrome_gates = 4\n",
        "    num_recovery_gates = 3\n",
        "    # Agent's action Part 1\n",
        "    for _ in range(num_syndrome_gates):\n",
        "        data_qubit = np.random.randint(n)\n",
        "        syndrome_qubit = np.random.randint(n, n + s)\n",
        "        qc.cx(data_qubit, syndrome_qubit)\n",
        "    # Agent's action Part 2\n",
        "    for _ in range(num_recovery_gates):\n",
        "        target_qubit = np.random.randint(n)\n",
        "        num_controls = np.random.randint(1, s + 1)\n",
        "        control_qubits = list(np.random.choice(np.arange(n, n + s), size=num_controls, replace=False))    # Change to inverted control\n",
        "        qc.cx(control_qubits, target_qubit)\n",
        "    return qc"
      ],
      "metadata": {
        "id": "aVasydviASdo"
      },
      "execution_count": null,
      "outputs": []
    },
    {
      "cell_type": "code",
      "source": [
        "perr_x = 0\n",
        "perr_y = 0\n",
        "perr_z = 0\n",
        "penalties_0, best_penalty, best_syndrome_circuit = run_episode()\n",
        "print(penalties_0)\n",
        "# print(\"Best Penalty:\",best_penalty)\n",
        "# print(\"Best Syndrome Circuit:\",best_syndrome_circuit)\n",
        "\n",
        "perr_x = 0.2\n",
        "perr_y = 0\n",
        "perr_z = 0\n",
        "penalties_1, best_penalty, best_syndrome_circuit = run_episode()\n",
        "print(penalties_1)\n",
        "\n",
        "perr_x = 0.4\n",
        "perr_y = 0\n",
        "perr_z = 0\n",
        "penalties_2, best_penalty, best_syndrome_circuit = run_episode()\n",
        "print(penalties_2)\n",
        "\n",
        "plt.plot(penalties_0)\n",
        "plt.plot(penalties_1)\n",
        "plt.plot(penalties_2)"
      ],
      "metadata": {
        "colab": {
          "base_uri": "https://localhost:8080/",
          "height": 499
        },
        "id": "5X6bkv9-jZBv",
        "outputId": "d6a0f5e4-3c48-4341-e0a2-a999b8d574cc"
      },
      "execution_count": null,
      "outputs": [
        {
          "output_type": "stream",
          "name": "stdout",
          "text": [
            "[0.008, 0.0048, 0.0088, 0.0134, 0.017, 0.001, 0.0182, 0.0024, 0.0216, 0.0124, 0.0016, 0.004, 0.008, 0.02, 0.0036, 0.0078, 0.0036, 0.0056, 0.0204, 0.0068]\n",
            "[0.3164, 0.0106, 0.01, 0.0084, 0.0308, 0.0278, 0.0154, 0.0306, 0.0002, 0.0128, 0.0006, 0.018, 0.008, 0.0064, 0.003, 0.0692, 0.0248, 0.0044, 0.0154, 0.0226]\n",
            "[0.3248, 0.011, 0.007, 0.0108, 0.004, 0.015, 0.005, 0.0148, 0.0026, 0.0, 0.0058, 0.0042, 0.003, 0.0078, 0.0114, 0.051, 0.5628, 0.02, 0.01, 0.528]\n"
          ]
        },
        {
          "output_type": "execute_result",
          "data": {
            "text/plain": [
              "[<matplotlib.lines.Line2D at 0x7c6911af8bb0>]"
            ]
          },
          "metadata": {},
          "execution_count": 103
        },
        {
          "output_type": "display_data",
          "data": {
            "text/plain": [
              "<Figure size 640x480 with 1 Axes>"
            ],
            "image/png": "[encoded data removed]"
          },
          "metadata": {}
        }
      ]
    }
  ]
}