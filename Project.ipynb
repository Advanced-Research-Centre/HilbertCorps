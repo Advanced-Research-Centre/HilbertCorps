{
 "cells": [
  {
   "cell_type": "code",
   "execution_count": 14,
   "id": "bce12a29-2d72-4e20-b201-c12e224e7b89",
   "metadata": {
    "tags": []
   },
   "outputs": [],
   "source": [
    "# Importing standard Qiskit libraries\n",
    "from qiskit import QuantumCircuit, transpile\n",
    "from qiskit.tools.jupyter import *\n",
    "from qiskit.visualization import *\n",
    "from ibm_quantum_widgets import *\n",
    "\n",
    "# qiskit-ibmq-provider has been deprecated.\n",
    "# Please see the Migration Guides in https://ibm.biz/provider_migration_guide for more detail.\n",
    "from qiskit_ibm_runtime import QiskitRuntimeService, Sampler, Estimator, Session, Options\n",
    "\n",
    "# Loading your IBM Quantum account(s)\n",
    "service = QiskitRuntimeService(channel=\"ibm_quantum\")\n",
    "\n",
    "# Invoke a primitive. For more details see https://qiskit.org/documentation/partners/qiskit_ibm_runtime/tutorials.html\n",
    "# result = Sampler(\"ibmq_qasm_simulator\").run(circuits).result()"
   ]
  },
  {
   "cell_type": "markdown",
   "id": "09819926-c100-457b-86fa-d23d03d61ae3",
   "metadata": {},
   "source": [
    "# Encoding"
   ]
  },
  {
   "cell_type": "code",
   "execution_count": 16,
   "id": "3689adf1-25ee-42d5-abaa-49b43e3184a0",
   "metadata": {},
   "outputs": [
    {
     "data": {
      "image/png": "[encoded data removed]",
      "text/plain": [
       "<Figure size 287.496x367.889 with 1 Axes>"
      ]
     },
     "execution_count": 16,
     "metadata": {},
     "output_type": "execute_result"
    }
   ],
   "source": [
    "from qiskit import QuantumCircuit, Aer, execute\n",
    "\n",
    "\n",
    "qc = QuantumCircuit(4)\n",
    "qc.cx(0, 3)\n",
    "qc.cx(1, 3)\n",
    "qc.draw()\n",
    "\n"
   ]
  },
  {
   "cell_type": "code",
   "execution_count": 20,
   "id": "0cf90e6f-35a3-470d-a36f-98c759c61b82",
   "metadata": {
    "tags": []
   },
   "outputs": [
    {
     "data": {
      "image/png": "[encoded data removed]",
      "text/plain": [
       "<Figure size 454.719x367.889 with 1 Axes>"
      ]
     },
     "execution_count": 20,
     "metadata": {},
     "output_type": "execute_result"
    }
   ],
   "source": [
    "from qiskit import QuantumCircuit, Aer, execute\n",
    "\n",
    "alpha = 0.6  \n",
    "beta = 0.8    \n",
    "qc = QuantumCircuit(4)\n",
    "\n",
    "qc.rx(2 * alpha, 0)\n",
    "qc.ry(2 * beta, 0)   \n",
    "\n",
    "qc.cx(0, 3)\n",
    "qc.cx(1, 3)\n",
    "qc.draw()\n",
    "\n"
   ]
  },
  {
   "cell_type": "code",
   "execution_count": 21,
   "id": "2e171ccb-25a9-40ec-9c9a-9be3a35f5a80",
   "metadata": {
    "tags": []
   },
   "outputs": [
    {
     "name": "stdout",
     "output_type": "stream",
     "text": [
      "Statevector([0.57501686+0.40504972j, 0.        +0.j        ,\n",
      "             0.        +0.j        , 0.        +0.j        ,\n",
      "             0.        +0.j        , 0.        +0.j        ,\n",
      "             0.        +0.j        , 0.        +0.j        ,\n",
      "             0.        +0.j        , 0.59205953-0.3933902j ,\n",
      "             0.        +0.j        , 0.        +0.j        ,\n",
      "             0.        +0.j        , 0.        +0.j        ,\n",
      "             0.        +0.j        , 0.        +0.j        ],\n",
      "            dims=(2, 2, 2, 2))\n"
     ]
    }
   ],
   "source": [
    "\n",
    "simulator = Aer.get_backend('statevector_simulator')\n",
    "job = execute(qc, simulator)\n",
    "result = job.result()\n",
    "statevector = result.get_statevector(qc)\n",
    "print(statevector)"
   ]
  },
  {
   "cell_type": "code",
   "execution_count": 31,
   "id": "0d5e306b-8bae-40c3-b75a-dfd327272435",
   "metadata": {
    "tags": []
   },
   "outputs": [
    {
     "name": "stdout",
     "output_type": "stream",
     "text": [
      "Traceback \u001b[1;36m(most recent call last)\u001b[0m:\n",
      "\u001b[0m  Cell \u001b[0;32mIn[31], line 30\u001b[0m\n",
      "    qc.measure([0, 1], [0, 1])  # Measure qubits 0 and 1\u001b[0m\n",
      "\u001b[0m  File \u001b[0;32m/opt/conda/lib/python3.10/site-packages/qiskit/circuit/quantumcircuit.py:2368\u001b[0m in \u001b[0;35mmeasure\u001b[0m\n",
      "    return self.append(Measure(), [qubit], [cbit])\u001b[0m\n",
      "\u001b[0m  File \u001b[0;32m/opt/conda/lib/python3.10/site-packages/qiskit/circuit/quantumcircuit.py:1303\u001b[0m in \u001b[0;35mappend\u001b[0m\n",
      "    expanded_cargs = [self.cbit_argument_conversion(carg) for carg in cargs or []]\u001b[0m\n",
      "\u001b[0m  File \u001b[0;32m/opt/conda/lib/python3.10/site-packages/qiskit/circuit/quantumcircuit.py:1303\u001b[0m in \u001b[0;35m<listcomp>\u001b[0m\n",
      "    expanded_cargs = [self.cbit_argument_conversion(carg) for carg in cargs or []]\u001b[0m\n",
      "\u001b[0m  File \u001b[0;32m/opt/conda/lib/python3.10/site-packages/qiskit/circuit/quantumcircuit.py:1198\u001b[0m in \u001b[0;35mcbit_argument_conversion\u001b[0m\n",
      "    return _bit_argument_conversion(\u001b[0m\n",
      "\u001b[0m  File \u001b[0;32m/opt/conda/lib/python3.10/site-packages/qiskit/circuit/quantumcircuit.py:5156\u001b[0m in \u001b[0;35m_bit_argument_conversion\u001b[0m\n",
      "    return [\u001b[0m\n",
      "\u001b[0m  File \u001b[0;32m/opt/conda/lib/python3.10/site-packages/qiskit/circuit/quantumcircuit.py:5157\u001b[0m in \u001b[0;35m<listcomp>\u001b[0m\n",
      "    _bit_argument_conversion_scalar(index, bit_sequence, bit_set, type_)\u001b[0m\n",
      "\u001b[1;36m  File \u001b[1;32m/opt/conda/lib/python3.10/site-packages/qiskit/circuit/quantumcircuit.py:5178\u001b[1;36m in \u001b[1;35m_bit_argument_conversion_scalar\u001b[1;36m\n",
      "\u001b[1;33m    raise CircuitError(\u001b[1;36m\n",
      "\u001b[1;31mCircuitError\u001b[0m\u001b[1;31m:\u001b[0m 'Index 0 out of range for size 0.'\n",
      "\n",
      "Use %tb to get the full traceback.\n"
     ]
    },
    {
     "name": "stderr",
     "output_type": "stream",
     "text": [
      "/tmp/ipykernel_82/1276063947.py:6: RuntimeWarning: invalid value encountered in sqrt\n",
      "  beta = np.sqrt(1 - np.abs(alpha)**2) * np.exp(1j * np.random.rand() * 2 * np.pi)\n"
     ]
    },
    {
     "data": {
      "text/html": [
       "\n",
       "<style>\n",
       ".button {\n",
       "  border: none;\n",
       "  color: white;\n",
       "  padding: 4px 8px;\n",
       "  text-align: center;\n",
       "  text-decoration: none;\n",
       "  display: inline-block;\n",
       "  font-size: 12px;\n",
       "  margin: 4px 2px;\n",
       "  transition-duration: 0.2s;\n",
       "  cursor: pointer;\n",
       "}\n",
       ".iqx-button {\n",
       "  background-color: #0f62fe; \n",
       "  color: white; \n",
       "}\n",
       ".iqx-button:hover {\n",
       "  background-color: #0043ce;\n",
       "  color: white;\n",
       "}\n",
       "</style>\n",
       "<a href=\"https://stackoverflow.com/search?q=CircuitError: Index 0 out of range for size 0.\" target='_blank'><button class='button iqx-button'>Search for solution online</button></a>\n"
      ],
      "text/plain": [
       "<IPython.core.display.HTML object>"
      ]
     },
     "metadata": {},
     "output_type": "display_data"
    }
   ],
   "source": [
    "import numpy as np\n",
    "from qiskit import QuantumCircuit, Aer, execute\n",
    "\n",
    "\n",
    "alpha = np.random.rand() + 1j * np.random.rand()\n",
    "beta = np.sqrt(1 - np.abs(alpha)**2) * np.exp(1j * np.random.rand() * 2 * np.pi)\n",
    "angle_x = np.random.rand() * 2 * np.pi\n",
    "angle_y = np.random.rand() * 2 * np.pi\n",
    "angle_z = np.random.rand() * 2 * np.pi\n",
    "\n",
    "qc = QuantumCircuit(3,3)\n",
    "qc.cx(0, 1)\n",
    "qc.cx(0, 2)\n",
    "qc.rx(2 * np.angle(alpha), 0)  \n",
    "qc.ry(2 * np.angle(beta), 0)  \n",
    "\n",
    "qc.rx(angle_x, 1)\n",
    "qc.ry(angle_y, 1)\n",
    "qc.rz(angle_z, 1)\n",
    "\n",
    "qc.measure([0, 1], [0, 1])  \n",
    "qc.draw()"
   ]
  },
  {
   "cell_type": "code",
   "execution_count": 26,
   "id": "2667aa44-7413-413e-836f-f6fcc2d15a97",
   "metadata": {
    "tags": []
   },
   "outputs": [
    {
     "name": "stdout",
     "output_type": "stream",
     "text": [
      "Generated alpha: (0.7683068102531463+0.5754098136946072j)\n",
      "Generated beta: (0.2715534268839366+0.06976337126432298j)\n",
      "Generated angle_x: 6.053975063545119\n",
      "Generated angle_y: 5.537804251362594\n",
      "Generated angle_z: 1.0723508611157366\n",
      "Statevector: Statevector([ 0.69827616-0.21686004j, -0.09099383-0.56116637j,\n",
      "             -0.26934837-0.126778j  , -0.12690129+0.19357019j,\n",
      "              0.        +0.j        ,  0.        +0.j        ,\n",
      "              0.        +0.j        ,  0.        +0.j        ],\n",
      "            dims=(2, 2, 2))\n"
     ]
    }
   ],
   "source": [
    "\n",
    "simulator = Aer.get_backend('statevector_simulator')\n",
    "job = execute(qc, simulator)\n",
    "result = job.result()\n",
    "statevector = result.get_statevector(qc)\n",
    "print(\"Generated alpha:\", alpha)\n",
    "print(\"Generated beta:\", beta)\n",
    "print(\"Generated angle_x:\", angle_x)\n",
    "print(\"Generated angle_y:\", angle_y)\n",
    "print(\"Generated angle_z:\", angle_z)\n",
    "print(\"Statevector:\", statevector)\n"
   ]
  },
  {
   "cell_type": "markdown",
   "id": "5a939ad4-a87c-4458-935b-6d0c5c87b480",
   "metadata": {},
   "source": [
    "# Introducing Error"
   ]
  },
  {
   "cell_type": "code",
   "execution_count": 2,
   "id": "a84164ef-ef58-4bdd-9947-31ee53fe6df3",
   "metadata": {
    "tags": []
   },
   "outputs": [
    {
     "data": {
      "image/png": "[encoded data removed]",
      "text/plain": [
       "<Figure size 621.941x284.278 with 1 Axes>"
      ]
     },
     "execution_count": 2,
     "metadata": {},
     "output_type": "execute_result"
    }
   ],
   "source": [
    "import numpy as np\n",
    "from qiskit import QuantumCircuit, Aer, execute\n",
    "\n",
    "\n",
    "alpha = np.random.rand() + 1j * np.random.rand()\n",
    "beta = np.sqrt(1 - np.abs(alpha)**2) * np.exp(1j * np.random.rand() * 2 * np.pi)\n",
    "\n",
    "\n",
    "angle_x = np.random.rand() * 2 * np.pi\n",
    "angle_y = np.random.rand() * 2 * np.pi\n",
    "angle_z = np.random.rand() * 2 * np.pi\n",
    "\n",
    "qc = QuantumCircuit(3)\n",
    "\n",
    "qc.cx(0, 1)\n",
    "qc.cx(0, 2)\n",
    "\n",
    "\n",
    "qc.rx(2 * np.angle(alpha), 0)  \n",
    "qc.ry(2 * np.angle(beta), 0)   \n",
    "\n",
    "error_qubit = 1\n",
    "qc.x(error_qubit)\n",
    "qc.rx(angle_x, 1)\n",
    "qc.ry(angle_y, 1)\n",
    "qc.rz(angle_z, 1)\n",
    "qc.draw()\n",
    "\n",
    "\n"
   ]
  },
  {
   "cell_type": "code",
   "execution_count": 3,
   "id": "25df0276-f7bf-423d-9bb1-4a0435918d1e",
   "metadata": {
    "tags": []
   },
   "outputs": [
    {
     "name": "stdout",
     "output_type": "stream",
     "text": [
      "Generated alpha: (0.07986842637048763+0.3839786250099445j)\n",
      "Generated beta: (-0.4887006990096257+0.7793286064248365j)\n",
      "Generated angle_x: 5.288302811119175\n",
      "Generated angle_y: 2.392575111130507\n",
      "Generated angle_z: 2.3594606294875886\n",
      "Error qubit: 1\n",
      "Statevector: Statevector([0.66610734+0.21373773j, 0.45384887-0.06371864j,\n",
      "             0.35577008+0.28938075j, 0.29233131+0.06933373j,\n",
      "             0.        +0.j        , 0.        +0.j        ,\n",
      "             0.        +0.j        , 0.        +0.j        ],\n",
      "            dims=(2, 2, 2))\n"
     ]
    }
   ],
   "source": [
    "simulator = Aer.get_backend('statevector_simulator')\n",
    "job = execute(qc, simulator)\n",
    "result = job.result()\n",
    "statevector = result.get_statevector(qc)\n",
    "print(\"Generated alpha:\", alpha)\n",
    "print(\"Generated beta:\", beta)\n",
    "print(\"Generated angle_x:\", angle_x)\n",
    "print(\"Generated angle_y:\", angle_y)\n",
    "print(\"Generated angle_z:\", angle_z)\n",
    "print(\"Error qubit:\", error_qubit)\n",
    "print(\"Statevector:\", statevector)"
   ]
  },
  {
   "cell_type": "markdown",
   "id": "9983e84b-ba8e-427d-9ac4-b3db84baeff3",
   "metadata": {},
   "source": [
    "# Mesuring Error"
   ]
  },
  {
   "cell_type": "code",
   "execution_count": 26,
   "id": "8ef4769f-0642-4b9d-93df-e3265145cea0",
   "metadata": {},
   "outputs": [
    {
     "data": {
      "image/png": "[encoded data removed]",
      "text/plain": [
       "<Figure size 789.163x367.889 with 1 Axes>"
      ]
     },
     "execution_count": 26,
     "metadata": {},
     "output_type": "execute_result"
    }
   ],
   "source": [
    "import numpy as np\n",
    "from qiskit import QuantumCircuit, Aer, execute\n",
    "\n",
    "\n",
    "alpha = np.random.rand() + 1j * np.random.rand()\n",
    "beta = np.sqrt(1 - np.abs(alpha)**2) * np.exp(1j * np.random.rand() * 2 * np.pi)\n",
    "\n",
    "\n",
    "angle_x = np.random.rand() * 2 * np.pi\n",
    "angle_y = np.random.rand() * 2 * np.pi\n",
    "angle_z = np.random.rand() * 2 * np.pi\n",
    "\n",
    "qc = QuantumCircuit(3,3)\n",
    "\n",
    "qc.cx(0, 1)\n",
    "qc.cx(0, 2)\n",
    "\n",
    "\n",
    "qc.rx(2 * np.angle(alpha), 0)  \n",
    "qc.ry(2 * np.angle(beta), 0)   \n",
    "\n",
    "error_qubit = 1\n",
    "qc.x(error_qubit)\n",
    "qc.rx(angle_x, 1)\n",
    "qc.ry(angle_y, 1)\n",
    "qc.rz(angle_z, 1)\n",
    "\n",
    "qc.measure(0,0)\n",
    "qc.measure(1,1)\n",
    "qc.measure(2,2)\n",
    "qc.draw()"
   ]
  },
  {
   "cell_type": "code",
   "execution_count": 29,
   "id": "c4ddf73e-6b32-4154-b6bb-4adc6c843572",
   "metadata": {
    "tags": []
   },
   "outputs": [
    {
     "name": "stdout",
     "output_type": "stream",
     "text": [
      "Error Syndrome Counts: {'010': 1}\n"
     ]
    },
    {
     "data": {
      "image/png": "[encoded data removed]",
      "text/plain": [
       "<Figure size 700x500 with 1 Axes>"
      ]
     },
     "execution_count": 29,
     "metadata": {},
     "output_type": "execute_result"
    }
   ],
   "source": [
    "from qiskit.visualization import plot_histogram\n",
    "simulator = Aer.get_backend('qasm_simulator')\n",
    "job = execute(qc, simulator, shots=1)\n",
    "result = job.result()\n",
    "syndrome_counts = result.get_counts(qc)\n",
    "print(\"Error Syndrome Counts:\", syndrome_counts)\n",
    "plot_histogram(syndrome_counts)"
   ]
  },
  {
   "cell_type": "markdown",
   "id": "36eca243-0d61-41f6-9fc3-a2d57d05a670",
   "metadata": {},
   "source": [
    "# Correction"
   ]
  },
  {
   "cell_type": "code",
   "execution_count": 43,
   "id": "d7f247fd-6c42-48cc-8805-e503c86d3218",
   "metadata": {
    "tags": []
   },
   "outputs": [
    {
     "name": "stdout",
     "output_type": "stream",
     "text": [
      "Counts: {'100': 54, '011': 51, '000': 395, '010': 524}\n"
     ]
    },
    {
     "data": {
      "image/png": "[encoded data removed]",
      "text/plain": [
       "<Figure size 700x500 with 1 Axes>"
      ]
     },
     "execution_count": 43,
     "metadata": {},
     "output_type": "execute_result"
    }
   ],
   "source": [
    "from qiskit import QuantumCircuit\n",
    "from qiskit.circuit.library import QFT\n",
    "from qiskit import Aer, execute\n",
    "from qiskit.visualization import plot_histogram\n",
    "import numpy as np\n",
    "import numpy as np\n",
    "from qiskit import QuantumCircuit, Aer, execute\n",
    "from qiskit import ClassicalRegister\n",
    "\n",
    "\n",
    "alpha = np.random.rand() + 1j * np.random.rand()\n",
    "beta = np.sqrt(1 - np.abs(alpha)**2) * np.exp(1j * np.random.rand() * 2 * np.pi)\n",
    "\n",
    "\n",
    "angle_x = np.random.rand() * 2 * np.pi\n",
    "angle_y = np.random.rand() * 2 * np.pi\n",
    "angle_z = np.random.rand() * 2 * np.pi\n",
    "\n",
    "qc = QuantumCircuit(3,3)\n",
    "\n",
    "qc.cx(0, 1)\n",
    "qc.cx(0, 2)\n",
    "\n",
    "\n",
    "qc.rx(2 * np.angle(alpha), 0)  \n",
    "qc.ry(2 * np.angle(beta), 0)   \n",
    "\n",
    "error_qubit = 1\n",
    "qc.x(error_qubit)\n",
    "qc.rx(angle_x, 1)\n",
    "qc.ry(angle_y, 1)\n",
    "qc.rz(angle_z, 1)\n",
    "\n",
    "qc.measure(0,0)\n",
    "qc.measure(1,1)\n",
    "qc.measure(2,2)\n",
    "\n",
    "qc.x(0).c_if(qc.cregs[0], 1)\n",
    "qc.x(2).c_if(qc.cregs[0], 1)\n",
    "\n",
    "\n",
    "\n",
    "qc.measure(0,0)\n",
    "qc.measure(1,1)\n",
    "qc.measure(2,2)\n",
    "job_corrected = execute(qc, simulator, shots=1024)\n",
    "result_corrected = job_corrected.result()\n",
    "counts_corrected = result_corrected.get_counts(qc)\n",
    "print(\"Counts:\", counts_corrected)\n",
    "\n",
    "plot_histogram(counts_corrected)"
   ]
  },
  {
   "cell_type": "code",
   "execution_count": null,
   "id": "ccb0e7e5-0d1d-4013-ae38-afa3a9b7705e",
   "metadata": {},
   "outputs": [],
   "source": []
  },
  {
   "cell_type": "code",
   "execution_count": null,
   "id": "e19353e0-12fb-422f-ae83-f3f9f55e832b",
   "metadata": {},
   "outputs": [],
   "source": []
  }
 ],
 "metadata": {
  "kernelspec": {
   "display_name": "Python 3 (ipykernel)",
   "language": "python",
   "name": "python3"
  },
  "language_info": {
   "codemirror_mode": {
    "name": "ipython",
    "version": 3
   },
   "file_extension": ".py",
   "mimetype": "text/x-python",
   "name": "python",
   "nbconvert_exporter": "python",
   "pygments_lexer": "ipython3",
   "version": "3.9.12"
  },
  "widgets": {
   "application/vnd.jupyter.widget-state+json": {
    "state": {},
    "version_major": 2,
    "version_minor": 0
   }
  }
 },
 "nbformat": 4,
 "nbformat_minor": 5
}
