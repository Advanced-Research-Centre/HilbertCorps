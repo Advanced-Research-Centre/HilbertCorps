{
  "nbformat": 4,
  "nbformat_minor": 0,
  "metadata": {
    "colab": {
      "provenance": [],
      "authorship_tag": "ABX9TyM11uZuXBNfP7wEC0aCKDaE",
      "include_colab_link": true
    },
    "kernelspec": {
      "name": "python3",
      "display_name": "Python 3"
    },
    "language_info": {
      "name": "python"
    }
  },
  "cells": [
    {
      "cell_type": "markdown",
      "metadata": {
        "id": "view-in-github",
        "colab_type": "text"
      },
      "source": [
        "<a href=\"https://colab.research.google.com/github/Advanced-Research-Centre/HilbertCorps/blob/main/Agent.ipynb\" target=\"_parent\"><img src=\"https://colab.research.google.com/assets/colab-badge.svg\" alt=\"Open In Colab\"/></a>"
      ]
    },
    {
      "cell_type": "code",
      "execution_count": 58,
      "metadata": {
        "id": "lmxLxOY-a1Ov"
      },
      "outputs": [],
      "source": [
        "%%capture\n",
        "!pip3 install qiskit\n",
        "!pip3 install qiskit-aer\n",
        "!pip3 install --upgrade matplotlib\n",
        "# !pip3 install gymnasium\n",
        "# !pip3 install pylatexenc"
      ]
    },
    {
      "cell_type": "code",
      "source": [
        "from qiskit import QuantumCircuit, Aer, execute\n",
        "from qiskit.quantum_info import Statevector\n",
        "import numpy as np\n",
        "import copy\n",
        "import matplotlib.pyplot as plt\n",
        "from numpy.ma.extras import average\n",
        "from statistics import mean\n",
        "simulator = Aer.get_backend('statevector_simulator')\n",
        "%matplotlib inline"
      ],
      "metadata": {
        "id": "0ti0tggjbK4C"
      },
      "execution_count": 103,
      "outputs": []
    },
    {
      "cell_type": "code",
      "source": [
        "k = 1         # Number of qubits of information\n",
        "n = 3         # Dimension of encoding space\n",
        "s = n - k     # Maximum number of syndrome measurements allowed\n",
        "\n",
        "perr_x = 0\n",
        "perr_y = 0\n",
        "perr_z = 0\n",
        "\n",
        "trials = 1    # How many random input quantum states will be tested for the QECC scheme\n",
        "shots = 1000  # For penalty precision\n",
        "\n",
        "def prep_state(qc,ax,ay):\n",
        "    qc.rx(ax, range(k))\n",
        "    qc.ry(ay, range(k))\n",
        "    return qc\n",
        "\n",
        "def add_enc_circ(ax,ay):\n",
        "    qc = QuantumCircuit(n+s, k)\n",
        "    qc.rx(ax, range(k))\n",
        "    qc.ry(ay, range(k))\n",
        "    qc.barrier()\n",
        "    for i in range(0,n-k):  # Currently works only for k = 1. For higher k, block encoding?\n",
        "        qc.cx(k-1,k+i)\n",
        "    qc.barrier()\n",
        "    return qc\n",
        "\n",
        "def add_err_circ(qc):\n",
        "    # tgt = np.random.randint(0,n)\n",
        "    # px = np.random.rand()\n",
        "    # if px < perr_x:\n",
        "    #     qc.x(tgt)\n",
        "    for i in range(n):\n",
        "        px = np.random.rand()\n",
        "        py = np.random.rand()\n",
        "        pz = np.random.rand()\n",
        "        error_indices = []\n",
        "        if px < perr_x:\n",
        "            qc.x(i)\n",
        "        if py < perr_y:\n",
        "            qc.y(i)\n",
        "        if pz < perr_z:\n",
        "            qc.z(i)\n",
        "    qc.barrier()\n",
        "    return qc\n",
        "\n",
        "def add_dec_circ(qc):\n",
        "    for i in range(0,n-k):  # Currently works only for k = 1. For higher k, block encoding?\n",
        "        qc.cx(k-1,k+i)\n",
        "    qc.barrier()\n",
        "    return qc"
      ],
      "metadata": {
        "id": "1VmKmrItbRwv"
      },
      "execution_count": 3,
      "outputs": []
    },
    {
      "cell_type": "code",
      "source": [
        "def run_episode(syn_qc):\n",
        "    penalties = []\n",
        "    # np.random.seed(1)           # REMOVE later, now for testing\n",
        "\n",
        "    for trial in range(trials):\n",
        "\n",
        "        qc = QuantumCircuit(k, k)\n",
        "        ax = np.random.rand()*2*np.pi\n",
        "        ay = np.random.rand()*2*np.pi\n",
        "\n",
        "        q_state = prep_state(qc, ax, ay)\n",
        "        # print(Statevector(q_state))\n",
        "        q_state.measure(range(k), range(k))\n",
        "\n",
        "        result = execute(q_state, simulator, shots=shots).result()\n",
        "        m1 = result.get_counts(q_state)\n",
        "        # print(m1)\n",
        "\n",
        "        ec = add_enc_circ(ax, ay)\n",
        "\n",
        "        err_trials = 1       # How many times a specific choice of syndrome circuit is tested for different random errors, bigger the better (and slower)\n",
        "\n",
        "        for _ in range(err_trials):\n",
        "\n",
        "            enc_circ = copy.deepcopy(ec)\n",
        "\n",
        "            err_circ = add_err_circ(enc_circ)\n",
        "\n",
        "            syn_circ = err_circ.compose(syn_qc)\n",
        "\n",
        "            dec_circ = add_dec_circ(syn_circ)\n",
        "            # print(dec_circ)\n",
        "            # print(Statevector(dec_circ))\n",
        "            dec_circ.measure(range(k), range(k))\n",
        "\n",
        "            result = execute(dec_circ, simulator, shots=shots).result()\n",
        "            m2 = result.get_counts(dec_circ)\n",
        "            # print(m2)\n",
        "\n",
        "\n",
        "            penalty = sum(abs(m1.get(key, 0) - m2.get(key, 0))/shots for key in set(m1) | set(m2))  # This is the agent's penalty\n",
        "            # print(set(m1)|set(m2),m1.get('0'),m2.get('0'),penalty)\n",
        "\n",
        "            penalties.append(penalty)\n",
        "\n",
        "    return penalties  #, best_penalty, best_syndrome_circuit"
      ],
      "metadata": {
        "id": "B0niPxn3babQ"
      },
      "execution_count": 22,
      "outputs": []
    },
    {
      "cell_type": "code",
      "source": [
        "def add_syn_circ():\n",
        "    qc = QuantumCircuit(n+s, k)\n",
        "    qc.cx(0,3)\n",
        "    qc.cx(1,3)\n",
        "    qc.cx(1,4)\n",
        "    qc.cx(2,4)\n",
        "    qc.barrier()\n",
        "    qc.x(4)\n",
        "    qc.mcx([3,4],0)\n",
        "    qc.x(4)\n",
        "    qc.mcx([3,4],1)\n",
        "    qc.x(3)\n",
        "    qc.mcx([3,4],2)\n",
        "    qc.x(3)\n",
        "    qc.barrier()\n",
        "    return qc\n",
        "\n",
        "def gen_syn_circ(a_hist, p_hist):\n",
        "    rnd_syn = np.random.rand()\n",
        "    if rnd_syn < 0.4:\n",
        "      syn_circ = add_syn_circ()\n",
        "    else:\n",
        "      syn_circ = QuantumCircuit(n+s, k)\n",
        "    return syn_circ\n",
        "    # qc = QuantumCircuit(n+s, k)\n",
        "    # num_syndrome_gates = 4\n",
        "    # num_recovery_gates = 3\n",
        "    # # Agent's action Part 1\n",
        "    # for _ in range(num_syndrome_gates):\n",
        "    #     data_qubit = np.random.randint(n)\n",
        "    #     syndrome_qubit = np.random.randint(n, n + s)\n",
        "    #     qc.cx(data_qubit, syndrome_qubit)\n",
        "    # # Agent's action Part 2\n",
        "    # for _ in range(num_recovery_gates):\n",
        "    #     target_qubit = np.random.randint(n)\n",
        "    #     num_controls = np.random.randint(1, s + 1)\n",
        "    #     control_qubits = list(np.random.choice(np.arange(n, n + s), size=num_controls, replace=False))    # Change to inverted control\n",
        "    #     qc.cx(control_qubits, target_qubit)\n",
        "    # return qc"
      ],
      "metadata": {
        "id": "ImtcRcZNLIof"
      },
      "execution_count": 106,
      "outputs": []
    },
    {
      "cell_type": "code",
      "source": [
        "# Test variance of penalty with perr_x\n",
        "\n",
        "trials = 20     # How many random input quantum states will be tested for the QECC scheme\n",
        "shots = 1000    # For penalty precision\n",
        "syn_trails = 1  # Number of changes agent gets to evolve/generate a syndrome circuit\n",
        "best_avg_penalty = float('inf')\n",
        "best_syndrome_circuit = None\n",
        "avg_penalty_list = []\n",
        "syn_trial_list = []\n",
        "perr_y = 0\n",
        "perr_z = 0\n",
        "perr_x_test = np.linspace(0,1,50)\n",
        "for perr_x_i in perr_x_test:\n",
        "  perr_x = perr_x_i\n",
        "  for t in range(syn_trails):\n",
        "      syn_circ = gen_syn_circ(syn_trial_list,avg_penalty_list)      # Action of the agent (Bit flip code / Random / Evolutionary)\n",
        "      syn_trial_list.append(syn_circ)\n",
        "      penalties = run_episode(syn_circ)                             # Interaction with the environment, performs the action on the environment\n",
        "      avg_penalty = np.mean(penalties)                              # Penalty\n",
        "      avg_penalty_list.append(avg_penalty)\n",
        "      if avg_penalty < best_avg_penalty:\n",
        "          best_avg_penalty = avg_penalty\n",
        "          best_syndrome_circuit = copy.deepcopy(syn_circ)\n",
        "\n",
        "print(avg_penalty_list)"
      ],
      "metadata": {
        "id": "ikKFUBxkckfy"
      },
      "execution_count": null,
      "outputs": []
    },
    {
      "cell_type": "code",
      "source": [
        "# Plot variance of penalty with perr_x\n",
        "\n",
        "plt.plot(avg_penalty_list)\n",
        "plt.ylim(0,1)\n",
        "plt.show()"
      ],
      "metadata": {
        "id": "YJk8QbwlMT4t"
      },
      "execution_count": null,
      "outputs": []
    },
    {
      "cell_type": "code",
      "source": [
        "# Syndrome construction\n",
        "\n",
        "perr_x = 0.1\n",
        "perr_y = 0\n",
        "perr_z = 0\n",
        "\n",
        "trials = 20     # How many random input quantum states will be tested for the QECC scheme\n",
        "shots = 1000    # For penalty precision\n",
        "\n",
        "syn_trails = 5  # Number of changes agent gets to evolve/generate a syndrome circuit\n",
        "best_avg_penalty = float('inf')\n",
        "best_syndrome_circuit = None\n",
        "avg_penalty_list = []\n",
        "syn_trial_list = []\n",
        "\n",
        "for t in range(syn_trails):\n",
        "    syn_circ = gen_syn_circ(syn_trial_list,avg_penalty_list)      # Action of the agent (Bit flip code / Random / Evolutionary)\n",
        "    syn_trial_list.append(syn_circ)\n",
        "    penalties = run_episode(syn_circ)                             # Interaction with the environment, performs the action on the environment\n",
        "    avg_penalty = np.mean(penalties)                              # Penalty\n",
        "    avg_penalty_list.append(avg_penalty)\n",
        "    print(avg_penalty,syn_circ)\n",
        "    if avg_penalty < best_avg_penalty:\n",
        "        best_avg_penalty = avg_penalty\n",
        "        best_syndrome_circuit = copy.deepcopy(syn_circ)"
      ],
      "metadata": {
        "id": "-XN4cINTBiNt",
        "outputId": "1f34e661-c29c-426a-892d-2155f90c89db",
        "colab": {
          "base_uri": "https://localhost:8080/"
        }
      },
      "execution_count": 110,
      "outputs": [
        {
          "output_type": "stream",
          "name": "stdout",
          "text": [
            "0.11779999999999997      \n",
            "q_0: \n",
            "     \n",
            "q_1: \n",
            "     \n",
            "q_2: \n",
            "     \n",
            "q_3: \n",
            "     \n",
            "q_4: \n",
            "     \n",
            "c: 1/\n",
            "     \n",
            "0.027200000000000002                           ░      ┌───┐                          ░ \n",
            "q_0: ──■──────────────────░──────┤ X ├──────────────────────────░─\n",
            "       │                  ░      └─┬─┘     ┌───┐                ░ \n",
            "q_1: ──┼────■────■────────░────────┼───────┤ X ├────────────────░─\n",
            "       │    │    │        ░        │       └─┬─┘     ┌───┐      ░ \n",
            "q_2: ──┼────┼────┼────■───░────────┼─────────┼───────┤ X ├──────░─\n",
            "     ┌─┴─┐┌─┴─┐  │    │   ░        │         │  ┌───┐└─┬─┘┌───┐ ░ \n",
            "q_3: ┤ X ├┤ X ├──┼────┼───░────────■─────────■──┤ X ├──■──┤ X ├─░─\n",
            "     └───┘└───┘┌─┴─┐┌─┴─┐ ░ ┌───┐  │  ┌───┐  │  └───┘  │  └───┘ ░ \n",
            "q_4: ──────────┤ X ├┤ X ├─░─┤ X ├──■──┤ X ├──■─────────■────────░─\n",
            "               └───┘└───┘ ░ └───┘     └───┘                     ░ \n",
            "c: 1/═════════════════════════════════════════════════════════════\n",
            "                                                                  \n",
            "0.08770000000000001      \n",
            "q_0: \n",
            "     \n",
            "q_1: \n",
            "     \n",
            "q_2: \n",
            "     \n",
            "q_3: \n",
            "     \n",
            "q_4: \n",
            "     \n",
            "c: 1/\n",
            "     \n",
            "0.20050000000000004      \n",
            "q_0: \n",
            "     \n",
            "q_1: \n",
            "     \n",
            "q_2: \n",
            "     \n",
            "q_3: \n",
            "     \n",
            "q_4: \n",
            "     \n",
            "c: 1/\n",
            "     \n",
            "0.0708      \n",
            "q_0: \n",
            "     \n",
            "q_1: \n",
            "     \n",
            "q_2: \n",
            "     \n",
            "q_3: \n",
            "     \n",
            "q_4: \n",
            "     \n",
            "c: 1/\n",
            "     \n"
          ]
        }
      ]
    },
    {
      "cell_type": "code",
      "source": [
        "print(best_syndrome_circuit)\n",
        "print(avg_penalty_list)"
      ],
      "metadata": {
        "id": "zNEkpx86d_YV",
        "outputId": "bbc2725c-468f-4b99-8220-bb72034d3ce2",
        "colab": {
          "base_uri": "https://localhost:8080/"
        }
      },
      "execution_count": 111,
      "outputs": [
        {
          "output_type": "stream",
          "name": "stdout",
          "text": [
            "                          ░      ┌───┐                          ░ \n",
            "q_0: ──■──────────────────░──────┤ X ├──────────────────────────░─\n",
            "       │                  ░      └─┬─┘     ┌───┐                ░ \n",
            "q_1: ──┼────■────■────────░────────┼───────┤ X ├────────────────░─\n",
            "       │    │    │        ░        │       └─┬─┘     ┌───┐      ░ \n",
            "q_2: ──┼────┼────┼────■───░────────┼─────────┼───────┤ X ├──────░─\n",
            "     ┌─┴─┐┌─┴─┐  │    │   ░        │         │  ┌───┐└─┬─┘┌───┐ ░ \n",
            "q_3: ┤ X ├┤ X ├──┼────┼───░────────■─────────■──┤ X ├──■──┤ X ├─░─\n",
            "     └───┘└───┘┌─┴─┐┌─┴─┐ ░ ┌───┐  │  ┌───┐  │  └───┘  │  └───┘ ░ \n",
            "q_4: ──────────┤ X ├┤ X ├─░─┤ X ├──■──┤ X ├──■─────────■────────░─\n",
            "               └───┘└───┘ ░ └───┘     └───┘                     ░ \n",
            "c: 1/═════════════════════════════════════════════════════════════\n",
            "                                                                  \n",
            "[0.11779999999999997, 0.027200000000000002, 0.08770000000000001, 0.20050000000000004, 0.0708]\n"
          ]
        }
      ]
    }
  ]
}