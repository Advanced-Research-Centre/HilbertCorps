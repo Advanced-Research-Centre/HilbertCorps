{
  "nbformat": 4,
  "nbformat_minor": 0,
  "metadata": {
    "colab": {
      "provenance": [],
      "authorship_tag": "ABX9TyOIGdBf9hwvNqUocr10Xyp5",
      "include_colab_link": true
    },
    "kernelspec": {
      "name": "python3",
      "display_name": "Python 3"
    },
    "language_info": {
      "name": "python"
    }
  },
  "cells": [
    {
      "cell_type": "markdown",
      "metadata": {
        "id": "view-in-github",
        "colab_type": "text"
      },
      "source": [
        "<a href=\"https://colab.research.google.com/github/Advanced-Research-Centre/HilbertCorps/blob/main/Environment.ipynb\" target=\"_parent\"><img src=\"https://colab.research.google.com/assets/colab-badge.svg\" alt=\"Open In Colab\"/></a>"
      ]
    },
    {
      "cell_type": "code",
      "execution_count": 14,
      "metadata": {
        "id": "lmxLxOY-a1Ov"
      },
      "outputs": [],
      "source": [
        "%%capture\n",
        "!pip3 install qiskit\n",
        "!pip3 install qiskit-aer\n",
        "!pip3 install matplotlib\n",
        "# !pip3 install gymnasium\n",
        "# !pip3 install pylatexenc"
      ]
    },
    {
      "cell_type": "code",
      "source": [
        "from qiskit import QuantumCircuit, Aer, execute\n",
        "import numpy as np\n",
        "import copy\n",
        "%matplotlib inline\n",
        "import matplotlib.pyplot as plt\n",
        "simulator = Aer.get_backend('statevector_simulator')"
      ],
      "metadata": {
        "id": "0ti0tggjbK4C"
      },
      "execution_count": 96,
      "outputs": []
    },
    {
      "cell_type": "code",
      "source": [
        "k = 1         # Number of qubits of information\n",
        "n = 3         # Dimension of encoding space\n",
        "s = n - k     # Maximum number of syndrome measurements allowed\n",
        "\n",
        "perr_x = 0\n",
        "perr_y = 0\n",
        "perr_z = 0\n",
        "\n",
        "trials = 5    # How many random input quantum states will be tested for the QECC scheme\n",
        "shots = 10000  # For penalty precision\n",
        "\n",
        "def prep_state(qc,ax,ay):\n",
        "    qc.rx(ax, range(k))\n",
        "    qc.ry(ay, range(k))\n",
        "    qc.measure(range(k), range(k))\n",
        "    return qc\n",
        "\n",
        "def add_enc_circ(ax,ay):\n",
        "    qc=QuantumCircuit(n+s, k)\n",
        "    qc.rx(ax, range(k))\n",
        "    qc.ry(ay, range(k))\n",
        "    qc.barrier()\n",
        "    for i in range(0,n-k):  # Currently works only for k = 1. For higher k, block encoding?\n",
        "        qc.cx(k-1,k+i)\n",
        "    qc.barrier()\n",
        "    return qc\n",
        "\n",
        "def add_syn_circ(qc):\n",
        "    # This is the agent's action\n",
        "    return qc\n",
        "\n",
        "def add_err_circ(qc):\n",
        "    for i in range(n):\n",
        "        px = np.random.rand()\n",
        "        py = np.random.rand()\n",
        "        pz = np.random.rand()\n",
        "        error_indices = []\n",
        "        if px < perr_x:\n",
        "            qc.x(i)\n",
        "        if py < perr_y:\n",
        "            qc.y(i)\n",
        "        if pz < perr_z:\n",
        "            qc.z(i)\n",
        "    return qc\n",
        "\n",
        "def add_dec_circ(qc):\n",
        "    for i in range(0,n-k):  # Currently works only for k = 1. For higher k, block encoding?\n",
        "        qc.cx(k-1,k+i)\n",
        "    qc.barrier()\n",
        "    qc.measure(range(k), range(k))\n",
        "    return qc"
      ],
      "metadata": {
        "id": "1VmKmrItbRwv"
      },
      "execution_count": 101,
      "outputs": []
    },
    {
      "cell_type": "code",
      "source": [
        "def run_episode():\n",
        "    best_penalty = float('inf')\n",
        "    best_syndrome_circuit = None\n",
        "    penalties = []\n",
        "    np.random.seed(1)           # Remove later, now for testing\n",
        "\n",
        "    for trial in range(trials):\n",
        "\n",
        "        qc = QuantumCircuit(k, k)\n",
        "        ax = np.random.rand()*2*np.pi\n",
        "        ay = np.random.rand()*2*np.pi\n",
        "\n",
        "        q_state = prep_state(qc, ax, ay)\n",
        "\n",
        "        result = execute(q_state, simulator, shots=shots).result()\n",
        "        m1 = result.get_counts(q_state)\n",
        "\n",
        "        ec = add_enc_circ(ax, ay)\n",
        "\n",
        "        syn_space = 2 ** s  # Why?\n",
        "\n",
        "        for syndrome_trial in range(syn_space):\n",
        "\n",
        "            enc_circ = copy.deepcopy(ec)\n",
        "\n",
        "            err_circ = add_err_circ(enc_circ)\n",
        "\n",
        "            syn_circ = add_syn_circ(err_circ)\n",
        "\n",
        "            dec_circ = add_dec_circ(syn_circ)\n",
        "\n",
        "            result = execute(dec_circ, simulator, shots=shots).result()\n",
        "            m2 = result.get_counts(dec_circ)\n",
        "\n",
        "            penalty = sum(abs(m1.get(key, 0) - m2.get(key, 0))/shots for key in set(m1) | set(m2))  # This is the agent's penalty\n",
        "\n",
        "            penalties.append(penalty)\n",
        "\n",
        "            if penalty < best_penalty:\n",
        "                best_penalty = penalty\n",
        "                best_syndrome_circuit = copy.deepcopy(dec_circ)\n",
        "    return penalties, best_penalty, best_syndrome_circuit"
      ],
      "metadata": {
        "id": "B0niPxn3babQ"
      },
      "execution_count": 102,
      "outputs": []
    },
    {
      "cell_type": "code",
      "source": [
        "perr_x = 0\n",
        "perr_y = 0\n",
        "perr_z = 0\n",
        "penalties_0, best_penalty, best_syndrome_circuit = run_episode()\n",
        "print(penalties_0)\n",
        "# print(\"Best Penalty:\",best_penalty)\n",
        "# print(\"Best Syndrome Circuit:\",best_syndrome_circuit)\n",
        "\n",
        "perr_x = 0.2\n",
        "perr_y = 0\n",
        "perr_z = 0\n",
        "penalties_1, best_penalty, best_syndrome_circuit = run_episode()\n",
        "print(penalties_1)\n",
        "\n",
        "perr_x = 0.4\n",
        "perr_y = 0\n",
        "perr_z = 0\n",
        "penalties_2, best_penalty, best_syndrome_circuit = run_episode()\n",
        "print(penalties_2)\n",
        "\n",
        "plt.plot(penalties_0)\n",
        "plt.plot(penalties_1)\n",
        "plt.plot(penalties_2)"
      ],
      "metadata": {
        "colab": {
          "base_uri": "https://localhost:8080/",
          "height": 499
        },
        "id": "5X6bkv9-jZBv",
        "outputId": "d6a0f5e4-3c48-4341-e0a2-a999b8d574cc"
      },
      "execution_count": 103,
      "outputs": [
        {
          "output_type": "stream",
          "name": "stdout",
          "text": [
            "[0.008, 0.0048, 0.0088, 0.0134, 0.017, 0.001, 0.0182, 0.0024, 0.0216, 0.0124, 0.0016, 0.004, 0.008, 0.02, 0.0036, 0.0078, 0.0036, 0.0056, 0.0204, 0.0068]\n",
            "[0.3164, 0.0106, 0.01, 0.0084, 0.0308, 0.0278, 0.0154, 0.0306, 0.0002, 0.0128, 0.0006, 0.018, 0.008, 0.0064, 0.003, 0.0692, 0.0248, 0.0044, 0.0154, 0.0226]\n",
            "[0.3248, 0.011, 0.007, 0.0108, 0.004, 0.015, 0.005, 0.0148, 0.0026, 0.0, 0.0058, 0.0042, 0.003, 0.0078, 0.0114, 0.051, 0.5628, 0.02, 0.01, 0.528]\n"
          ]
        },
        {
          "output_type": "execute_result",
          "data": {
            "text/plain": [
              "[<matplotlib.lines.Line2D at 0x7c6911af8bb0>]"
            ]
          },
          "metadata": {},
          "execution_count": 103
        },
        {
          "output_type": "display_data",
          "data": {
            "text/plain": [
              "<Figure size 640x480 with 1 Axes>"
            ],
            "image/png": "[encoded data removed]"
          },
          "metadata": {}
        }
      ]
    }
  ]
}
